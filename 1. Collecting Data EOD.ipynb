{
 "cells": [
  {
   "cell_type": "markdown",
   "metadata": {},
   "source": [
    "# Precondition Data EOD "
   ]
  },
  {
   "cell_type": "markdown",
   "metadata": {},
   "source": [
    "# Full data From 1990- August 2017\n",
    "### This notebook use for collecting data EOD Indonesia Stock Exchange"
   ]
  },
  {
   "cell_type": "code",
   "execution_count": 8,
   "metadata": {},
   "outputs": [],
   "source": [
    "#import lib\n",
    "import pandas as pd\n",
    "from pandas import datetime\n",
    "from random import choice "
   ]
  },
  {
   "cell_type": "markdown",
   "metadata": {},
   "source": [
    "## Collect Data EOD August 17- January 18"
   ]
  },
  {
   "cell_type": "code",
   "execution_count": null,
   "metadata": {},
   "outputs": [],
   "source": [
    "def CollectDataEOD(x,c):\n",
    "    month_list =[]\n",
    "    file_name= format_name\n",
    "    for i in c:\n",
    "        month_list.append(pd.read_csv(file_name.format(i)))\n",
    "    month = pd.concat(month_list)"
   ]
  },
  {
   "cell_type": "code",
   "execution_count": 2,
   "metadata": {},
   "outputs": [],
   "source": [
    "#open data on august 17\n",
    "August_list = []\n",
    "file_name='EOD/8/MS1708{}.txt'\n",
    "c = (7,8,9,10,11,15,16,18,21,22,23,24,25,28,30,31) #list of data\n",
    "for i in c:\n",
    "    August_list.append(pd.read_csv(file_name.format(i)))\n",
    "    \n",
    "August = pd.concat(August_list)\n",
    "August.to_csv('EOD/8/Augustfull.csv', encoding='utf-8')\n",
    "#sorting by emiten n date\n",
    "Augustfull = pd.read_csv('EOD/8/Augustfull.csv', header=0, names = ['date','emiten','open','high','low','close','volume'])\n",
    "Augustfull['date'] = pd.to_datetime(Augustfull['date'], format='%m/%d/%y')\n",
    "Augustfull.sort_values(['emiten','date'], inplace=True)\n",
    "Augustfull.to_csv('EOD/Augustfinal.csv', encoding='utf-8')"
   ]
  },
  {
   "cell_type": "code",
   "execution_count": 3,
   "metadata": {},
   "outputs": [],
   "source": [
    "#open data on Sept 17\n",
    "Sept_list = []\n",
    "file_name='EOD/9/MS1709{}.txt'\n",
    "c = (4,5,6,7,8,11,12,13,14,18,19,20,22,25,26,27,28,29) #list of data\n",
    "for i in c:\n",
    "    Sept_list.append(pd.read_csv(file_name.format(i)))\n",
    "    \n",
    "Sept = pd.concat(Sept_list)\n",
    "Sept.to_csv('EOD/9/Septfull.csv', encoding='utf-8')\n",
    "#sorting by emiten n date\n",
    "Septfull = pd.read_csv('EOD/9/Septfull.csv', header=0, names = ['date','emiten','open','high','low','close','volume'])\n",
    "Septfull['date'] = pd.to_datetime(Septfull['date'], format='%m/%d/%y')\n",
    "Septfull.sort_values(['emiten','date'], inplace=True)\n",
    "Septfull.to_csv('EOD/Septfinal.csv', encoding='utf-8')"
   ]
  },
  {
   "cell_type": "code",
   "execution_count": 4,
   "metadata": {},
   "outputs": [],
   "source": [
    "#open data on Okt 17\n",
    "Okt_list = []\n",
    "file_name='EOD/10/MS1710{}.txt'\n",
    "c = (5,6,9,10,11,12,16,17,18,19,20,23,24,25,26,30,31) #list of data\n",
    "for i in c:\n",
    "    Okt_list.append(pd.read_csv(file_name.format(i)))\n",
    "    \n",
    "Okt = pd.concat(Okt_list)\n",
    "Okt.to_csv('EOD/10/Oktfull.csv', encoding='utf-8')\n",
    "#sorting by emiten n date\n",
    "Oktfull = pd.read_csv('EOD/10/Oktfull.csv', header=0, names = ['date','emiten','open','high','low','close','volume'])\n",
    "Oktfull['date'] = pd.to_datetime(Oktfull['date'], format='%m/%d/%y')\n",
    "Oktfull.sort_values(['emiten','date'], inplace=True)\n",
    "Oktfull.to_csv('EOD/Oktfinal.csv', encoding='utf-8')"
   ]
  },
  {
   "cell_type": "code",
   "execution_count": 5,
   "metadata": {},
   "outputs": [],
   "source": [
    "#open data on Nov 17\n",
    "Nov_list = []\n",
    "file_name='EOD/11/MS1711{}.txt'\n",
    "c = (1,2,3,6,7,8,9,10,13,15,16,17,20,21,22,23,24,27,29,30) #list of data\n",
    "for i in c:\n",
    "    Nov_list.append(pd.read_csv(file_name.format(i)))\n",
    "    \n",
    "Nov = pd.concat(Nov_list)\n",
    "Nov.to_csv('EOD/11/Novfull.csv', encoding='utf-8')\n",
    "#sorting by emiten n date\n",
    "Novfull = pd.read_csv('EOD/11/Novfull.csv', header=0, names = ['date','emiten','open','high','low','close','volume'])\n",
    "Novfull['date'] = pd.to_datetime(Novfull['date'], format='%m/%d/%y')\n",
    "Novfull.sort_values(['emiten','date'], inplace=True)\n",
    "Novfull.to_csv('EOD/Novfinal.csv', encoding='utf-8')"
   ]
  },
  {
   "cell_type": "code",
   "execution_count": 6,
   "metadata": {},
   "outputs": [],
   "source": [
    "#open data on Desember 2017\n",
    "Des_list = []\n",
    "file_name='EOD/12/MS1712{}.txt'\n",
    "d = (4,5,6,7,8,11,12,13,14,18,19,20,21,22,27,29) #list of data\n",
    "for i in d:\n",
    "    Des_list.append(pd.read_csv(file_name.format(i)))\n",
    "    \n",
    "Des = pd.concat(Des_list)\n",
    "Des.to_csv('EOD/12/Desfull.csv', encoding='utf-8')\n",
    "#sorting by emiten n date\n",
    "Desfull = pd.read_csv('EOD/12/Desfull.csv', header=0, names = ['date','emiten','open','high','low','close','volume'])\n",
    "Desfull['date'] = pd.to_datetime(Desfull['date'], format='%m/%d/%y')\n",
    "Desfull.sort_values(['emiten','date'], inplace=True)\n",
    "Desfull.to_csv('EOD/Desfinal.csv', encoding='utf-8')"
   ]
  },
  {
   "cell_type": "code",
   "execution_count": 7,
   "metadata": {},
   "outputs": [],
   "source": [
    "#open data on Januari 2018\n",
    "Jan_list = []\n",
    "file_name='EOD/0118/MS1801{}.txt'\n",
    "d = (2,3,4,5,8,9,10,11,12,15,16,17,18,19,22,23,24,25,26,29) #list of data\n",
    "for i in d:\n",
    "    Jan_list.append(pd.read_csv(file_name.format(i)))\n",
    "    \n",
    "Jan = pd.concat(Jan_list)\n",
    "Jan.to_csv('EOD/0118/Janfull.csv', encoding='utf-8')\n",
    "#sorting by emiten n date\n",
    "Janfull = pd.read_csv('EOD/0118/Janfull.csv', header=0, names = ['date','emiten','open','high','low','close','volume'])\n",
    "Janfull['date'] = pd.to_datetime(Janfull['date'], format='%m/%d/%y')\n",
    "Janfull.sort_values(['emiten','date'], inplace=True)\n",
    "Janfull.to_csv('EOD/Janfinal.csv', encoding='utf-8')"
   ]
  },
  {
   "cell_type": "markdown",
   "metadata": {},
   "source": [
    "### Collecting into full csv"
   ]
  },
  {
   "cell_type": "code",
   "execution_count": 10,
   "metadata": {},
   "outputs": [],
   "source": [
    "#open full data set\n",
    "AllData = pd.read_csv('saham.csv', header=0, names = ['date','emiten','open','high','low','close','volume'])\n",
    "AllData['date'] = pd.to_datetime(AllData['date'], format='%m/%d/%y')\n"
   ]
  },
  {
   "cell_type": "code",
   "execution_count": 15,
   "metadata": {},
   "outputs": [],
   "source": [
    "#Read CSV Each Month\n",
    "\n",
    "def EachMonth (x):\n",
    "   AllData  = pd.read_csv(x, header=0, names = ['date','emiten','open','high','low','close','volume'])\n",
    "   AllData['date'] = pd.to_datetime(AllData['date'], format='%Y-%m-%d')\n",
    "   return AllData\n",
    "August = EachMonth('EOD/Augustfinal.csv')\n",
    "Sept = EachMonth('EOD/Septfinal.csv')\n",
    "Okt = EachMonth('EOD/Oktfinal.csv')\n",
    "Nov = EachMonth('EOD/Novfinal.csv')\n",
    "Des = EachMonth('EOD/Desfinal.csv')\n",
    "Jan = EachMonth('EOD/Janfinal.csv')\n",
    "\n",
    "frame= [AllData,August,Sept,Okt,Nov,Des,Jan]\n",
    "result = pd.concat(frame)\n",
    "result.sort_values(['emiten','date'], inplace=True)\n",
    "result.to_csv('new.csv', encoding='utf-8')"
   ]
  }
 ],
 "metadata": {
  "kernelspec": {
   "display_name": "Python 3",
   "language": "python",
   "name": "python3"
  },
  "language_info": {
   "codemirror_mode": {
    "name": "ipython",
    "version": 3
   },
   "file_extension": ".py",
   "mimetype": "text/x-python",
   "name": "python",
   "nbconvert_exporter": "python",
   "pygments_lexer": "ipython3",
   "version": "3.5.4"
  }
 },
 "nbformat": 4,
 "nbformat_minor": 2
}
